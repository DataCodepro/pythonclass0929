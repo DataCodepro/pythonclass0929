{
 "cells": [
  {
   "cell_type": "markdown",
   "id": "b4403f13",
   "metadata": {},
   "source": [
    "# class and object"
   ]
  },
  {
   "cell_type": "code",
   "execution_count": 3,
   "id": "62d796f1",
   "metadata": {},
   "outputs": [
    {
     "name": "stdout",
     "output_type": "stream",
     "text": [
      "NAME:Ojo\n",
      "GENDER:Male\n",
      "AGE:58\n",
      "COLOR:Dark\n",
      "HEIGHT:1.8\n",
      "WEIGHT:85\n",
      "\n",
      "None\n"
     ]
    }
   ],
   "source": [
    "class person:\n",
    "    def __init__(self,Name,Gender,Age,Color,Height,Weight):\n",
    "        self.Name = Name\n",
    "        self.Gender =Gender\n",
    "        self.Age =Age\n",
    "        self.Color =Color\n",
    "        self.Height =Height\n",
    "        self.Weight = Weight\n",
    "    def details(self):\n",
    "        print(f'''NAME:{self.Name}\n",
    "GENDER:{self.Gender}\n",
    "AGE:{self.Age}\n",
    "COLOR:{self.Color}\n",
    "HEIGHT:{self.Height}\n",
    "WEIGHT:{self.Weight}\n",
    "''')\n",
    "    def vote(self):\n",
    "        if self.Age >= 18:\n",
    "            print('CONGRATULATIONS YOU ARE ELIGIBLE TO VOTE')\n",
    "        else:\n",
    "            return 'OPSS SORRY YOU ARE NOT ELIGIBLE TO VOTE'\n",
    "firstperson = person('Ojo','Male',58,'Dark',1.80,85)\n",
    "print(firstperson.details())"
   ]
  },
  {
   "cell_type": "code",
   "execution_count": 4,
   "id": "3763963b",
   "metadata": {},
   "outputs": [
    {
     "name": "stdout",
     "output_type": "stream",
     "text": [
      "CONGRATULATIONS YOU ARE ELIGIBLE TO VOTE\n"
     ]
    }
   ],
   "source": [
    "firstperson.vote()"
   ]
  },
  {
   "cell_type": "code",
   "execution_count": 5,
   "id": "410512b8",
   "metadata": {},
   "outputs": [
    {
     "name": "stdout",
     "output_type": "stream",
     "text": [
      "NAME:Faith\n",
      "GENDER:Female\n",
      "AGE:25\n",
      "COLOR:Fair\n",
      "HEIGHT:1.95\n",
      "WEIGHT:65\n",
      "\n",
      "None\n"
     ]
    }
   ],
   "source": [
    "class subperson(person):\n",
    "    def sport(self):\n",
    "        print('YOU ARE ELIGIBLE TO PLAY ALL SPORT')\n",
    "secondperson = subperson('Faith','Female',25,'Fair',1.95,65)\n",
    "print(secondperson.details())"
   ]
  },
  {
   "cell_type": "code",
   "execution_count": 11,
   "id": "337e4241",
   "metadata": {},
   "outputs": [
    {
     "name": "stdout",
     "output_type": "stream",
     "text": [
      "Enter y as yes to perform operation and n as no to quit:y\n",
      "Pick an operation:4\n",
      "Please provide your Height once again:1.99\n",
      "Please provide your weight once again:85\n",
      "Normal Weight\n",
      "Enter y as yes to perform operation and n as no to quit:n\n"
     ]
    }
   ],
   "source": [
    "class BMICHECK:\n",
    "    def __init__(self,Name,Gender,Age,Color,Height,Weight):\n",
    "        self.Name = Name\n",
    "        self.Gender =Gender\n",
    "        self.Age =Age\n",
    "        self.Color =Color\n",
    "        self.Height =Height\n",
    "        self.Weight = Weight\n",
    "    def accept(self,NAME,GENDER,AGE,COLOR,HEIGHT,WEIGHT):\n",
    "        ob=BMICHECK(NAME,GENDER,AGE,COLOR,HEIGHT,WEIGHT)\n",
    "        customerlist.append(ob)\n",
    "    def details(self,ob):\n",
    "        print(f'''NAME:{ob.Name}\n",
    "GENDER:{ob.Gender}\n",
    "AGE:{ob.Age}\n",
    "COLOR:{ob.Color}\n",
    "HEIGHT:{ob.Height}\n",
    "WEIGHT:{ob.Weight}\n",
    "''')\n",
    "    def pricecharge(self):\n",
    "        country = input('Please provide your country')\n",
    "        continent = input('Please provide your continent')\n",
    "        if continent == 'Africa':\n",
    "            print('YOUR CHARGE IS $50')\n",
    "        elif continent == 'Asia':\n",
    "             print('YOUR CHARGE IS $65')\n",
    "        elif continent == 'Europe':\n",
    "             print('YOUR CHARGE IS $70')\n",
    "        elif continent == 'South America':\n",
    "             print('YOUR CHARGE IS $45')\n",
    "        elif continent == 'North America':\n",
    "             print('YOUR CHARGE IS $55')\n",
    "    def bmi(self):\n",
    "        height = float(input('Please provide your Height once again:'))\n",
    "        weight = float(input('Please provide your weight once again:'))\n",
    "        BMIOUTPUT =weight/(height **2)\n",
    "        if BMIOUTPUT <18.5:\n",
    "            print('YOU ARE UNDERWEIGHT KINDLY SEE THE DOCTOR')\n",
    "        elif BMIOUTPUT >= 18.5 and BMIOUTPUT<= 24.99:\n",
    "            print('Normal Weight')\n",
    "        elif BMIOUTPUT >= 25 and BMIOUTPUT<= 29.99:\n",
    "            print('You are over weight change your diet')\n",
    "        else:\n",
    "            print('You are obesssss kindly see a doctor')\n",
    "customerlist = []\n",
    "obj = BMICHECK('','',0,'',0,0)\n",
    "counter = 1\n",
    "x= input('Enter y as yes to perform operation and n as no to quit:')\n",
    "while x == 'y':\n",
    "    choice = int(input('Pick an operation:'))\n",
    "    if choice == 1:\n",
    "        obj.accept(input('Please provide your name:'),input('Please provide your gender'),\\\n",
    "        int(input('Please provide your age:')),input('Please provide your color:'),\\\n",
    "         float(input('Please provide your Height')),float(input('Please provide your weight')))\n",
    "    elif choice == 2:\n",
    "        for i in range(len(customerlist)):\n",
    "            print(obj.details(customerlist[i]))\n",
    "    elif choice == 3:\n",
    "        obj.pricecharge()\n",
    "    elif choice==4:\n",
    "        obj.bmi()\n",
    "    x= input('Enter y as yes to perform operation and n as no to quit:')\n",
    "    counter = counter + 1"
   ]
  },
  {
   "cell_type": "code",
   "execution_count": null,
   "id": "1282b4c4",
   "metadata": {},
   "outputs": [],
   "source": []
  },
  {
   "cell_type": "code",
   "execution_count": null,
   "id": "2aa2b61a",
   "metadata": {},
   "outputs": [],
   "source": []
  }
 ],
 "metadata": {
  "kernelspec": {
   "display_name": "Python 3 (ipykernel)",
   "language": "python",
   "name": "python3"
  },
  "language_info": {
   "codemirror_mode": {
    "name": "ipython",
    "version": 3
   },
   "file_extension": ".py",
   "mimetype": "text/x-python",
   "name": "python",
   "nbconvert_exporter": "python",
   "pygments_lexer": "ipython3",
   "version": "3.9.12"
  }
 },
 "nbformat": 4,
 "nbformat_minor": 5
}
