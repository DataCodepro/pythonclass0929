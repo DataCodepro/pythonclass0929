{
 "cells": [
  {
   "cell_type": "code",
   "execution_count": 2,
   "metadata": {},
   "outputs": [
    {
     "name": "stdout",
     "output_type": "stream",
     "text": [
      "['__doc__', '__loader__', '__name__', '__package__', '__spec__', 'acos', 'acosh', 'asin', 'asinh', 'atan', 'atan2', 'atanh', 'ceil', 'comb', 'copysign', 'cos', 'cosh', 'degrees', 'dist', 'e', 'erf', 'erfc', 'exp', 'expm1', 'fabs', 'factorial', 'floor', 'fmod', 'frexp', 'fsum', 'gamma', 'gcd', 'hypot', 'inf', 'isclose', 'isfinite', 'isinf', 'isnan', 'isqrt', 'lcm', 'ldexp', 'lgamma', 'log', 'log10', 'log1p', 'log2', 'modf', 'nan', 'nextafter', 'perm', 'pi', 'pow', 'prod', 'radians', 'remainder', 'sin', 'sinh', 'sqrt', 'tan', 'tanh', 'tau', 'trunc', 'ulp']\n"
     ]
    }
   ],
   "source": [
    "import math\n",
    "print(dir(math))"
   ]
  },
  {
   "cell_type": "markdown",
   "metadata": {},
   "source": []
  },
  {
   "cell_type": "code",
   "execution_count": 3,
   "metadata": {},
   "outputs": [
    {
     "name": "stdout",
     "output_type": "stream",
     "text": [
      "18\n",
      "17\n",
      "2.8831233291713367\n"
     ]
    }
   ],
   "source": [
    "numbers = 17.87\n",
    "print(math.ceil(numbers))\n",
    "print(math.floor(numbers))\n",
    "print(math.log(numbers))"
   ]
  },
  {
   "cell_type": "code",
   "execution_count": 4,
   "metadata": {},
   "outputs": [
    {
     "name": "stdout",
     "output_type": "stream",
     "text": [
      "['Counter', 'Decimal', 'Fraction', 'LinearRegression', 'NormalDist', 'StatisticsError', '__all__', '__builtins__', '__cached__', '__doc__', '__file__', '__loader__', '__name__', '__package__', '__spec__', '_coerce', '_convert', '_exact_ratio', '_fail_neg', '_find_lteq', '_find_rteq', '_isfinite', '_normal_dist_inv_cdf', '_ss', '_sum', 'bisect_left', 'bisect_right', 'correlation', 'covariance', 'erf', 'exp', 'fabs', 'fmean', 'fsum', 'geometric_mean', 'groupby', 'harmonic_mean', 'hypot', 'itemgetter', 'linear_regression', 'log', 'math', 'mean', 'median', 'median_grouped', 'median_high', 'median_low', 'mode', 'multimode', 'namedtuple', 'numbers', 'pstdev', 'pvariance', 'quantiles', 'random', 'repeat', 'sqrt', 'stdev', 'tau', 'variance']\n"
     ]
    }
   ],
   "source": [
    "import statistics as stat\n",
    "print(dir(stat))"
   ]
  },
  {
   "cell_type": "code",
   "execution_count": 6,
   "metadata": {},
   "outputs": [
    {
     "name": "stdout",
     "output_type": "stream",
     "text": [
      "80.66666666666667\n",
      "85\n",
      "212\n",
      "14.560219778561036\n"
     ]
    }
   ],
   "source": [
    "scores = [78,80,95,45,89,78,90,85,86]\n",
    "print(stat.mean(scores))\n",
    "print(stat.median(scores))\n",
    "print(stat.variance(scores))\n",
    "print(stat.stdev(scores))"
   ]
  },
  {
   "cell_type": "code",
   "execution_count": 7,
   "metadata": {},
   "outputs": [
    {
     "name": "stdout",
     "output_type": "stream",
     "text": [
      "['BPF', 'LOG4', 'NV_MAGICCONST', 'RECIP_BPF', 'Random', 'SG_MAGICCONST', 'SystemRandom', 'TWOPI', '_ONE', '_Sequence', '_Set', '__all__', '__builtins__', '__cached__', '__doc__', '__file__', '__loader__', '__name__', '__package__', '__spec__', '_accumulate', '_acos', '_bisect', '_ceil', '_cos', '_e', '_exp', '_floor', '_index', '_inst', '_isfinite', '_log', '_os', '_pi', '_random', '_repeat', '_sha512', '_sin', '_sqrt', '_test', '_test_generator', '_urandom', '_warn', 'betavariate', 'choice', 'choices', 'expovariate', 'gammavariate', 'gauss', 'getrandbits', 'getstate', 'lognormvariate', 'normalvariate', 'paretovariate', 'randbytes', 'randint', 'random', 'randrange', 'sample', 'seed', 'setstate', 'shuffle', 'triangular', 'uniform', 'vonmisesvariate', 'weibullvariate']\n"
     ]
    }
   ],
   "source": [
    "import random as rn\n",
    "print(dir(rn))"
   ]
  },
  {
   "cell_type": "code",
   "execution_count": 10,
   "metadata": {},
   "outputs": [
    {
     "data": {
      "text/plain": [
       "29"
      ]
     },
     "execution_count": 10,
     "metadata": {},
     "output_type": "execute_result"
    }
   ],
   "source": [
    "rn.randint(14,30)"
   ]
  },
  {
   "cell_type": "code",
   "execution_count": 11,
   "metadata": {},
   "outputs": [
    {
     "name": "stdout",
     "output_type": "stream",
     "text": [
      "[86, 85, 78, 90, 89, 78, 95, 80, 45]\n"
     ]
    }
   ],
   "source": [
    "rn.shuffle(scores)\n",
    "print(scores)"
   ]
  },
  {
   "cell_type": "code",
   "execution_count": 15,
   "metadata": {},
   "outputs": [
    {
     "data": {
      "text/plain": [
       "95"
      ]
     },
     "execution_count": 15,
     "metadata": {},
     "output_type": "execute_result"
    }
   ],
   "source": [
    "rn.choice(scores)"
   ]
  },
  {
   "cell_type": "code",
   "execution_count": 27,
   "metadata": {},
   "outputs": [],
   "source": [
    "#WRITE A PROGRAMM TO CHECK IF A USER GIVEN NUMBER IS A POSITIVE NUMBER\n",
    "usernumber = int(input('Please provide a number:'))\n",
    "if usernumber > 0:\n",
    "    print(f'{usernumber} is a positive number')"
   ]
  },
  {
   "cell_type": "code",
   "execution_count": 18,
   "metadata": {},
   "outputs": [],
   "source": [
    "#WRITE A PROGRAM TO CHECK IF YOUR CURRENT AGE IS AN EVEN NUMBER\n",
    "currentage = int(input('Please provide your age:'))\n",
    "if currentage % 2 == 0:\n",
    "    print(f'{currentage} is an even number')"
   ]
  },
  {
   "cell_type": "code",
   "execution_count": 22,
   "metadata": {},
   "outputs": [
    {
     "name": "stdout",
     "output_type": "stream",
     "text": [
      "47 is an odd number\n"
     ]
    }
   ],
   "source": [
    "currentage = int(input('Please provide your age:'))\n",
    "if currentage % 2 == 0:\n",
    "    print(f'{currentage} is an even number')\n",
    "    \n",
    "else:\n",
    "    print(f'{currentage} is an odd number')"
   ]
  },
  {
   "cell_type": "code",
   "execution_count": 23,
   "metadata": {},
   "outputs": [
    {
     "name": "stdout",
     "output_type": "stream",
     "text": [
      "Ade budget is 320000.416 which is less or equal to his salary, therefore his budget is realistic\n"
     ]
    }
   ],
   "source": [
    "#IF ADE SPEND 25% OF SALARY ON TRANSPORT, 15% ON FEEDING,20% ON HOUSING,15% FOR SAVING AND 5% ON MISSC, ASK ADE FOR IS SALARY AND WRITE A CONDITION TO CHECK IF HIS BUDGET IS REALISTIC OR NOT\n",
    "salary = float(input('Ade\"s Salary:'))\n",
    "trans = salary * 0.25\n",
    "feeding = salary * 0.15\n",
    "rent = salary * 0.20\n",
    "savings = salary * 0.15\n",
    "misc = salary * 0.05 \n",
    "\n",
    "budget = trans + feeding + rent + savings +  misc\n",
    "if budget <= salary:\n",
    "    print(f'Ade budget is {budget} which is less or equal to his salary, therefore his budget is realistic')\n",
    "else:\n",
    "    print(f'Ade budget is {budget} which is greater than his salary, therefore his budget is not realistic')"
   ]
  },
  {
   "cell_type": "code",
   "execution_count": 24,
   "metadata": {},
   "outputs": [
    {
     "name": "stdout",
     "output_type": "stream",
     "text": [
      "-10 is a negative number\n"
     ]
    }
   ],
   "source": [
    "#WRITE A PROGRAM TO CHECK IF A NUMBER IS POSITIVE, OR NEGATIVE, OR ZERO\n",
    "num = int(input('Please provide a number:'))\n",
    "if num > 0:\n",
    "    print(f'{num} is a positive number')\n",
    "else:\n",
    "    if num < 0:\n",
    "        print(f'{num} is a negative number')\n",
    "    else:\n",
    "        print(f'{num} is zero')"
   ]
  },
  {
   "cell_type": "code",
   "execution_count": 25,
   "metadata": {},
   "outputs": [
    {
     "name": "stdout",
     "output_type": "stream",
     "text": [
      "0 is zero\n"
     ]
    }
   ],
   "source": [
    "num = int(input('Please provide a number:'))\n",
    "if num > 0:\n",
    "    print(f'{num} is a positive number')\n",
    "elif num < 0:\n",
    "     print(f'{num} is a negative number')\n",
    "else:\n",
    "    print(f'{num} is zero')"
   ]
  },
  {
   "cell_type": "code",
   "execution_count": 29,
   "metadata": {},
   "outputs": [
    {
     "name": "stdout",
     "output_type": "stream",
     "text": [
      "WELCOME TO M&T PLAZA\n",
      "LIFT BUTTON\n",
      "GF: GROUNDFLOOR\n",
      "1:FIRST FLOOR\n",
      "2:SECOND FLOOR\n",
      "3:THIRD FLOOR\n",
      "4: FOURTH FLOOR\n",
      "5: FIFTH FLOOR\n",
      "\n",
      "pom pom GROUND FLOOR\n"
     ]
    }
   ],
   "source": [
    "# YOU WORK AT M&T PLAZA HAVING 5 FLOORs AND A GROUND FLOOR WRITE A SIMPLE LIFT PROGRAM TO NAVIGATE THROUGH EACH FLOOR\n",
    "print('WELCOME TO M&T PLAZA')\n",
    "print('''LIFT BUTTON\n",
    "GF: GROUNDFLOOR\n",
    "1:FIRST FLOOR\n",
    "2:SECOND FLOOR\n",
    "3:THIRD FLOOR\n",
    "4: FOURTH FLOOR\n",
    "5: FIFTH FLOOR\n",
    "''')\n",
    "liftbutton  =input('Press button option')\n",
    "if liftbutton == 'gf':\n",
    "    print('pom pom GROUND FLOOR')\n",
    "elif liftbutton == '1':\n",
    "    print('pom pom FIRST FLOOR')\n",
    "elif liftbutton == '2':\n",
    "    print('pom pom SECOND FLOOR')\n",
    "elif liftbutton == '3':\n",
    "    print('pom pom THIRD FLOOR')\n",
    "elif liftbutton == '4':\n",
    "    print('pom pom FOURTH FLOOR')\n",
    "elif liftbutton == '5':\n",
    "    print('pom pom FIFTH FLOOR')\n",
    "else:\n",
    "    print('LIFT IS FAULTY')"
   ]
  },
  {
   "cell_type": "code",
   "execution_count": null,
   "metadata": {},
   "outputs": [],
   "source": []
  }
 ],
 "metadata": {
  "kernelspec": {
   "display_name": "Python 3.10.4 64-bit",
   "language": "python",
   "name": "python3"
  },
  "language_info": {
   "codemirror_mode": {
    "name": "ipython",
    "version": 3
   },
   "file_extension": ".py",
   "mimetype": "text/x-python",
   "name": "python",
   "nbconvert_exporter": "python",
   "pygments_lexer": "ipython3",
   "version": "3.10.4"
  },
  "orig_nbformat": 4,
  "vscode": {
   "interpreter": {
    "hash": "97a318a1c10ea3cad32b5f740e8bef65bce9a717407c951d39899fa160feabd9"
   }
  }
 },
 "nbformat": 4,
 "nbformat_minor": 2
}
