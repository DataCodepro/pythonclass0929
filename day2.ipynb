{
 "cells": [
  {
   "cell_type": "code",
   "execution_count": 1,
   "id": "7dd90a38",
   "metadata": {},
   "outputs": [],
   "source": [
    "#int can be converted to float and string\n",
    "#float can be converted to int and string\n",
    "#string cannot be converted to float or int expect a digit has a string"
   ]
  },
  {
   "cell_type": "code",
   "execution_count": 2,
   "id": "2d4d52cc",
   "metadata": {},
   "outputs": [
    {
     "name": "stdout",
     "output_type": "stream",
     "text": [
      "12\n"
     ]
    }
   ],
   "source": [
    "num1 = 15\n",
    "num2 = int(12.65)\n",
    "print(num2)"
   ]
  },
  {
   "cell_type": "code",
   "execution_count": 3,
   "id": "098fb132",
   "metadata": {},
   "outputs": [
    {
     "name": "stdout",
     "output_type": "stream",
     "text": [
      "15.0\n"
     ]
    }
   ],
   "source": [
    "print(float(num1))"
   ]
  },
  {
   "cell_type": "code",
   "execution_count": 4,
   "id": "9eb59eff",
   "metadata": {},
   "outputs": [
    {
     "ename": "ValueError",
     "evalue": "could not convert string to float: 'fun'",
     "output_type": "error",
     "traceback": [
      "\u001b[1;31m---------------------------------------------------------------------------\u001b[0m",
      "\u001b[1;31mValueError\u001b[0m                                Traceback (most recent call last)",
      "Input \u001b[1;32mIn [4]\u001b[0m, in \u001b[0;36m<cell line: 2>\u001b[1;34m()\u001b[0m\n\u001b[0;32m      1\u001b[0m word \u001b[38;5;241m=\u001b[39m \u001b[38;5;124m'\u001b[39m\u001b[38;5;124mfun\u001b[39m\u001b[38;5;124m'\u001b[39m\n\u001b[1;32m----> 2\u001b[0m \u001b[38;5;28mprint\u001b[39m(\u001b[38;5;28;43mfloat\u001b[39;49m\u001b[43m(\u001b[49m\u001b[43mword\u001b[49m\u001b[43m)\u001b[49m)\n",
      "\u001b[1;31mValueError\u001b[0m: could not convert string to float: 'fun'"
     ]
    }
   ],
   "source": [
    "word = 'fun'\n",
    "print(float(word))"
   ]
  },
  {
   "cell_type": "code",
   "execution_count": 5,
   "id": "2bc8e9ee",
   "metadata": {},
   "outputs": [
    {
     "name": "stdout",
     "output_type": "stream",
     "text": [
      "60\n"
     ]
    }
   ],
   "source": [
    "num3 = '60'\n",
    "print(int(num3))"
   ]
  },
  {
   "cell_type": "markdown",
   "id": "52472474",
   "metadata": {},
   "source": [
    "###### INPUT FUNCTION"
   ]
  },
  {
   "cell_type": "code",
   "execution_count": 8,
   "id": "0b89239f",
   "metadata": {},
   "outputs": [
    {
     "name": "stdout",
     "output_type": "stream",
     "text": [
      "Enter your age:74\n"
     ]
    }
   ],
   "source": [
    "age = input('Enter your age: ')"
   ]
  },
  {
   "cell_type": "code",
   "execution_count": 9,
   "id": "f21f3284",
   "metadata": {},
   "outputs": [
    {
     "name": "stdout",
     "output_type": "stream",
     "text": [
      "74\n"
     ]
    }
   ],
   "source": [
    "print(age)"
   ]
  },
  {
   "cell_type": "code",
   "execution_count": 10,
   "id": "6a73b004",
   "metadata": {},
   "outputs": [
    {
     "name": "stdout",
     "output_type": "stream",
     "text": [
      "<class 'str'>\n"
     ]
    }
   ],
   "source": [
    "print(type(age))"
   ]
  },
  {
   "cell_type": "code",
   "execution_count": 13,
   "id": "883a2942",
   "metadata": {},
   "outputs": [
    {
     "name": "stdout",
     "output_type": "stream",
     "text": [
      "Enter your age47\n"
     ]
    }
   ],
   "source": [
    "age2 = int(input('Enter your age'))"
   ]
  },
  {
   "cell_type": "code",
   "execution_count": 14,
   "id": "fa761898",
   "metadata": {},
   "outputs": [
    {
     "name": "stdout",
     "output_type": "stream",
     "text": [
      "47\n"
     ]
    }
   ],
   "source": [
    "print(age2)"
   ]
  },
  {
   "cell_type": "code",
   "execution_count": 16,
   "id": "e38d2ce4",
   "metadata": {},
   "outputs": [
    {
     "name": "stdout",
     "output_type": "stream",
     "text": [
      "<class 'int'>\n"
     ]
    }
   ],
   "source": [
    "print(type(age2))"
   ]
  },
  {
   "cell_type": "code",
   "execution_count": 17,
   "id": "a7bad6d2",
   "metadata": {},
   "outputs": [],
   "source": [
    "# ARITHIMETIC OPERATORS +, -, /, *, %, //, **"
   ]
  },
  {
   "cell_type": "code",
   "execution_count": 19,
   "id": "4df8f40c",
   "metadata": {},
   "outputs": [
    {
     "name": "stdout",
     "output_type": "stream",
     "text": [
      "The Total Sum of 50 and 35 is 85\n",
      "The Differnce between 50 and 35 is 15\n",
      "The Product of 50 and 35 is 1750\n",
      "50 / 35 is 1.4285714285714286\n",
      "The Remainder of 50 and 35 is 15\n",
      "50 // 35 is 1\n",
      "50 ** 35 is 291038304567337036132812500000000000000000000000000000000000\n"
     ]
    }
   ],
   "source": [
    "num1 = 50\n",
    "num2 = 35\n",
    "print(f'The Total Sum of {num1} and {num2} is {num1 + num2}')\n",
    "print(f'The Differnce between {num1} and {num2} is {num1 - num2}')\n",
    "print(f'The Product of {num1} and {num2} is {num1 * num2}')\n",
    "print(f'{num1} / {num2} is {num1 / num2}')\n",
    "print(f'The Remainder of {num1} and {num2} is {num1 % num2}')\n",
    "print(f'{num1} // {num2} is {num1 // num2}')\n",
    "print(f'{num1} ** {num2} is {num1 ** num2}')"
   ]
  },
  {
   "cell_type": "code",
   "execution_count": 20,
   "id": "ade53c44",
   "metadata": {},
   "outputs": [],
   "source": [
    "#COMPAIRISIM OPERATORS >, <, >=, <=, ==, !="
   ]
  },
  {
   "cell_type": "code",
   "execution_count": 21,
   "id": "febd0748",
   "metadata": {},
   "outputs": [
    {
     "name": "stdout",
     "output_type": "stream",
     "text": [
      "True\n",
      "True\n",
      "False\n",
      "False\n",
      "False\n",
      "True\n"
     ]
    }
   ],
   "source": [
    "print(num1 > num2)\n",
    "print(num1 >= num2)\n",
    "print(num1 < num2)\n",
    "print(num1 <= num2)\n",
    "print(num1 == num2)\n",
    "print(num1 != num2)"
   ]
  },
  {
   "cell_type": "code",
   "execution_count": 22,
   "id": "a4b3f1e4",
   "metadata": {},
   "outputs": [],
   "source": [
    "# LOGICAL OPERATORS  AND, OR , NOT"
   ]
  },
  {
   "cell_type": "code",
   "execution_count": 23,
   "id": "113fafdd",
   "metadata": {},
   "outputs": [
    {
     "name": "stdout",
     "output_type": "stream",
     "text": [
      "True\n",
      "True\n"
     ]
    }
   ],
   "source": [
    "print(num1 != num2 and num2 <= num1)\n",
    "print(num1 != num2 or num2 <= num1)"
   ]
  },
  {
   "cell_type": "code",
   "execution_count": 25,
   "id": "3ae07f0d",
   "metadata": {},
   "outputs": [
    {
     "name": "stdout",
     "output_type": "stream",
     "text": [
      "True\n",
      "True\n"
     ]
    }
   ],
   "source": [
    "# MEMBERSHIP OPERATORS IN, NOT IN \n",
    "course = 'python'\n",
    "print('p' in course)\n",
    "print('P' not in course)"
   ]
  },
  {
   "cell_type": "code",
   "execution_count": 26,
   "id": "64b3e39c",
   "metadata": {},
   "outputs": [
    {
     "name": "stdout",
     "output_type": "stream",
     "text": [
      "False\n",
      "True\n"
     ]
    }
   ],
   "source": [
    "# IDENTITY OPERATORS IS, IS NOT\n",
    "print(num1 is num2)\n",
    "print(num1 is not num2)"
   ]
  },
  {
   "cell_type": "code",
   "execution_count": 29,
   "id": "5f7c2dcd",
   "metadata": {},
   "outputs": [
    {
     "name": "stdout",
     "output_type": "stream",
     "text": [
      "Enter pen quantity: 200\n",
      "Ade's profit on 200 pen bought at rate 12000and sold at the  rate of 18000 is 6000\n"
     ]
    }
   ],
   "source": [
    "# Ade bought n pen for 60 naira each and sold at the rate of 90 naira\n",
    "# each write a python program to calculate ade's profit\n",
    "numbers_of_pen = int(input('Enter pen quantity: '))\n",
    "cost_price = numbers_of_pen * 60\n",
    "selling_price = numbers_of_pen *90\n",
    "profit = selling_price - cost_price\n",
    "print(f'Ade\\'s profit on {numbers_of_pen} pen bought at rate {cost_price}\\\n",
    "and sold at the  rate of {selling_price} is {profit}')"
   ]
  },
  {
   "cell_type": "code",
   "execution_count": null,
   "id": "f4c2b907",
   "metadata": {},
   "outputs": [],
   "source": []
  }
 ],
 "metadata": {
  "kernelspec": {
   "display_name": "Python 3 (ipykernel)",
   "language": "python",
   "name": "python3"
  },
  "language_info": {
   "codemirror_mode": {
    "name": "ipython",
    "version": 3
   },
   "file_extension": ".py",
   "mimetype": "text/x-python",
   "name": "python",
   "nbconvert_exporter": "python",
   "pygments_lexer": "ipython3",
   "version": "3.9.12"
  }
 },
 "nbformat": 4,
 "nbformat_minor": 5
}
