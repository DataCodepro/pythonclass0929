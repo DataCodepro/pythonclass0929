{
 "cells": [
  {
   "cell_type": "code",
   "execution_count": 1,
   "metadata": {},
   "outputs": [],
   "source": [
    "# Functions "
   ]
  },
  {
   "cell_type": "code",
   "execution_count": 4,
   "metadata": {},
   "outputs": [
    {
     "data": {
      "text/plain": [
       "'Welcome to python class'"
      ]
     },
     "execution_count": 4,
     "metadata": {},
     "output_type": "execute_result"
    }
   ],
   "source": [
    "def greet():#A FUNCTION WITHOUT A PARAMETER \n",
    "    return 'Welcome to python class'\n",
    "greet()"
   ]
  },
  {
   "cell_type": "code",
   "execution_count": 5,
   "metadata": {},
   "outputs": [
    {
     "data": {
      "text/plain": [
       "'Welcome to python class'"
      ]
     },
     "execution_count": 5,
     "metadata": {},
     "output_type": "execute_result"
    }
   ],
   "source": [
    "greet()"
   ]
  },
  {
   "cell_type": "code",
   "execution_count": 8,
   "metadata": {},
   "outputs": [
    {
     "name": "stdout",
     "output_type": "stream",
     "text": [
      "welcome to python class Ade\n"
     ]
    }
   ],
   "source": [
    "def greet2(name):#A FUNCTION WITH A SINGLE PARAMETER\n",
    "    print(f'welcome to python class {name}')\n",
    "greet2('Ade')"
   ]
  },
  {
   "cell_type": "code",
   "execution_count": 9,
   "metadata": {},
   "outputs": [
    {
     "name": "stdout",
     "output_type": "stream",
     "text": [
      "welcome to python class John\n"
     ]
    }
   ],
   "source": [
    "greet2('John')"
   ]
  },
  {
   "cell_type": "code",
   "execution_count": 12,
   "metadata": {},
   "outputs": [
    {
     "name": "stdout",
     "output_type": "stream",
     "text": [
      "ITEM:Washing Machine\n",
      "QUANTITY:3\n",
      "COST:75000\n",
      "LOCATION:Abuja\n",
      "TOTAL WEIGHT IN KG:75\n",
      "\n",
      "YOUR ITEM WEIGTH IS GREATER THAN THE DEFAULT WEIGHT AND HAS A HIGH COST, YOUR SHIPPING FEE IS 18750\n"
     ]
    }
   ],
   "source": [
    "#WRITE A PYTHON FUNCTION TO DISPLAY THE SHIPING DETAILS AND ALSO THE COST PER KG\n",
    "def itemshipping(itemname,itemcost,itemquantity,location,totalweight, costperkg):\n",
    "    print(f'''ITEM:{itemname}\n",
    "QUANTITY:{itemquantity}\n",
    "COST:{itemcost}\n",
    "LOCATION:{location}\n",
    "TOTAL WEIGHT IN KG:{totalweight}\n",
    "''')\n",
    "    if itemcost <= 5000 or totalweight <= 10:\n",
    "        print('FREE SHIPPING')\n",
    "    else:\n",
    "        totalcost = costperkg * totalweight\n",
    "        print(f'YOUR ITEM WEIGTH IS GREATER THAN THE DEFAULT WEIGHT AND HAS A HIGH COST, YOUR SHIPPING FEE IS {totalcost}')\n",
    "        \n",
    "itemshipping('Washing Machine',75000,3,'Abuja',75,250)"
   ]
  },
  {
   "cell_type": "code",
   "execution_count": null,
   "metadata": {},
   "outputs": [],
   "source": [
    "#EXERCISE ONE:\n",
    "#USING A FUNCTION WITHOUT A PARAMETER WRITE A PROGRAM TO CALCULATE THE AVERAGE SCORE OF A STUDENT IN 7 SUBJECT AND WRITE A CONDITION TO GRADE THE STUDENT BASED ON THE AVERAGE SCORE\n",
    "def scoregrade():\n",
    "    sub1 = float(input('Math Score:'))\n",
    "    sub2 = float(input('English Score:'))\n",
    "    sub3 = float(input('Chemistry Score:'))\n",
    "    sub4 = float(input('Geography Score:'))\n",
    "    sub5 = float(input('Physics Score:'))\n",
    "    sub6 = float(input('Economics Score:'))\n",
    "    sub7 = float(input('Agric Score:'))\n",
    "    averagescore = (sub1 + sub2 + sub3 +sub4 +sub5 +sub6 + sub7)/7\n",
    "    \n",
    "    if averagescore >= 70 and averagescore <= 100:\n",
    "        print(f'Your average in 7 subject is {averagescore} and your grade is A')\n",
    "    elif averagescore >= 60 and averagescore <= 69.99:\n",
    "        print(f'Your average in 7 subject is {averagescore} and your grade is B')\n",
    "    elif averagescore >= 50 and averagescore <= 59.99:\n",
    "        print(f'Your average in 7 subject is {averagescore} and your grade is C')\n",
    "    elif averagescore >= 40 and averagescore <= 49.99:\n",
    "        print(f'Your average in 7 subject is {averagescore} and your grade is D')\n",
    "    elif averagescore >= 31 and averagescore <= 39.99:\n",
    "        print(f'Your average in 7 subject is {averagescore} and your grade is E')\n",
    "    else:\n",
    "         print(f'Your average in 7 subject is {averagescore} and your grade is F')\n",
    "         \n",
    "scoregrade()"
   ]
  },
  {
   "cell_type": "code",
   "execution_count": 18,
   "metadata": {},
   "outputs": [
    {
     "name": "stdout",
     "output_type": "stream",
     "text": [
      "ITEM:Washing Machine\n",
      "QUANTITY:3\n",
      "COST:75000\n",
      "LOCATION:Abuja\n",
      "TOTAL WEIGHT IN KG:80\n",
      "\n",
      "YOUR ITEM WEIGTH IS GREATER THAN THE DEFAULT WEIGHT AND HAS A HIGH COST, YOUR SHIPPING FEE IS 16000\n"
     ]
    }
   ],
   "source": [
    "def itemshipping(itemname,itemcost,itemquantity,location,totalweight = 50, costperkg = 300):\n",
    "    print(f'''ITEM:{itemname}\n",
    "QUANTITY:{itemquantity}\n",
    "COST:{itemcost}\n",
    "LOCATION:{location}\n",
    "TOTAL WEIGHT IN KG:{totalweight}\n",
    "''')\n",
    "    if itemcost <= 5000 or totalweight <= 10:\n",
    "        print('FREE SHIPPING')\n",
    "    else:\n",
    "        totalcost = costperkg * totalweight\n",
    "        print(f'YOUR ITEM WEIGTH IS GREATER THAN THE DEFAULT WEIGHT AND HAS A HIGH COST, YOUR SHIPPING FEE IS {totalcost}')\n",
    "        \n",
    "itemshipping('Washing Machine',75000,3,'Abuja',80,200)"
   ]
  },
  {
   "cell_type": "code",
   "execution_count": null,
   "metadata": {},
   "outputs": [],
   "source": []
  }
 ],
 "metadata": {
  "kernelspec": {
   "display_name": "Python 3.10.4 64-bit",
   "language": "python",
   "name": "python3"
  },
  "language_info": {
   "codemirror_mode": {
    "name": "ipython",
    "version": 3
   },
   "file_extension": ".py",
   "mimetype": "text/x-python",
   "name": "python",
   "nbconvert_exporter": "python",
   "pygments_lexer": "ipython3",
   "version": "3.10.4"
  },
  "orig_nbformat": 4,
  "vscode": {
   "interpreter": {
    "hash": "97a318a1c10ea3cad32b5f740e8bef65bce9a717407c951d39899fa160feabd9"
   }
  }
 },
 "nbformat": 4,
 "nbformat_minor": 2
}
