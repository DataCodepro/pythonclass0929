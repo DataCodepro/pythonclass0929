{
 "cells": [
  {
   "cell_type": "code",
   "execution_count": 1,
   "metadata": {},
   "outputs": [],
   "source": [
    "import pymysql"
   ]
  },
  {
   "cell_type": "code",
   "execution_count": 2,
   "metadata": {},
   "outputs": [],
   "source": [
    "mydb = pymysql.connect(\n",
    "    host = 'localhost',\n",
    "    user = 'root',\n",
    "    password = 'seyilaw1'\n",
    ")\n",
    "mycursor = mydb.cursor()"
   ]
  },
  {
   "cell_type": "code",
   "execution_count": 4,
   "metadata": {},
   "outputs": [
    {
     "name": "stdout",
     "output_type": "stream",
     "text": [
      "('accesswayprimebank',)\n",
      "('employeemanagementsystem',)\n",
      "('footballmanagementsystem',)\n",
      "('greenwayschoolmanagementsystem',)\n",
      "('information_schema',)\n",
      "('mysql',)\n",
      "('packwaystore',)\n",
      "('performance_schema',)\n",
      "('sakila',)\n",
      "('schoolmanagementsystem',)\n",
      "('schoolrecordmanagementsystem',)\n",
      "('shoprise',)\n",
      "('studentmanagementsystem',)\n",
      "('sys',)\n",
      "('world',)\n"
     ]
    }
   ],
   "source": [
    "mycursor.execute('show databases')\n",
    "for x in mycursor:\n",
    "    print(x)"
   ]
  },
  {
   "cell_type": "code",
   "execution_count": 5,
   "metadata": {},
   "outputs": [],
   "source": [
    "mydb = pymysql.connect(\n",
    "    host = 'localhost',\n",
    "    user = 'root',\n",
    "    password = 'seyilaw1',\n",
    "    database='packwaystore'\n",
    ")\n",
    "mycursor = mydb.cursor()"
   ]
  },
  {
   "cell_type": "code",
   "execution_count": 9,
   "metadata": {},
   "outputs": [
    {
     "name": "stdout",
     "output_type": "stream",
     "text": [
      "('itemdetails',)\n"
     ]
    }
   ],
   "source": [
    "mycursor.execute('show tables')\n",
    "for x in mycursor:\n",
    "    print(x)"
   ]
  },
  {
   "cell_type": "code",
   "execution_count": 8,
   "metadata": {},
   "outputs": [
    {
     "data": {
      "text/plain": [
       "0"
      ]
     },
     "execution_count": 8,
     "metadata": {},
     "output_type": "execute_result"
    }
   ],
   "source": [
    "mycursor.execute('alter table itemrecords rename to itemdetails')"
   ]
  },
  {
   "cell_type": "code",
   "execution_count": 10,
   "metadata": {},
   "outputs": [],
   "source": [
    "sql = 'insert into itemdetails(ITEMID,ITEMNAME,ITEMCATEGORY,ITEMSUBCATEGORY,ITEMCONDITION,ITEMSUPPLYDATE,ITEMQUANTITY,ITEMPRICE) values(%s,%s,%s,%s,%s,%s,%s,%s)'\n",
    "\n",
    "val = [(10,'LENOVO THINKPAD','ELECTRONICS','LAPTOP','FRAGILE','2021-12-28',30,850000.00),\n",
    "       (11,'W2 EARBUD','ELECTRONICS','ACCESSORIES','FRAGILE','2022-11-15',150,6500.00),\n",
    "       (12,'PLAY STATION X','ELECTRONICS','GAMING','FRAGILE','2021-03-05',20,150000.00)]\n",
    "mycursor.executemany(sql,val)\n",
    "mydb.commit()"
   ]
  },
  {
   "cell_type": "code",
   "execution_count": 11,
   "metadata": {},
   "outputs": [
    {
     "name": "stdout",
     "output_type": "stream",
     "text": [
      "(1, 'LG AIR CONDITION', 'ELECTRONICS', 'AIR CONDITION', 'FRAGILE', datetime.date(2021, 5, 26), 50, 200000.0)\n",
      "(2, 'TECNO SPARK 9T', 'MOBILE PHONES', 'ANDRIORD', 'FRAGILE', datetime.date(2022, 3, 25), 45, 145000.0)\n",
      "(3, 'MEN GUCCI SHOE', 'WEARS', 'MEN WEARS', 'NON-FRAGILE', datetime.date(2019, 8, 25), 20, 50000.0)\n",
      "(4, 'IPHONE 14', 'MOBILE PHONES', 'IOS', 'FRAGILE', datetime.date(2022, 1, 15), 80, 1500000.0)\n",
      "(5, 'HISENES OVEN', 'ELECTRONICS', 'KITCHEN EQUIPMENT', 'FRAGILE', datetime.date(2021, 12, 22), 5, 300001.0)\n",
      "(6, 'PLAY STATION 5', 'ELECTRONICS', 'GAMING', 'FRAGILE', datetime.date(2021, 12, 25), 25, 600000.0)\n",
      "(7, 'WESTER WIRELESS PAD', 'ELECTRONICS', 'GAMING', 'FRAGILE', datetime.date(2022, 3, 15), 100, 8000.25)\n",
      "(8, 'SWEET MAMA 50KG RICE', 'FOOD AND OTHERS', 'RAW ITEM', 'PERISHABLE', datetime.date(2021, 12, 15), 45, 50000.0)\n",
      "(9, 'FLEXIBLE READING TABLE', 'WOODING EQUIPMENT', 'TABLE', 'NON FRAGILE', datetime.date(2020, 10, 28), 55, 45000.0)\n",
      "(10, 'LENOVO THINKPAD', 'ELECTRONICS', 'LAPTOP', 'FRAGILE', datetime.date(2021, 12, 28), 30, 850000.0)\n",
      "(11, 'W2 EARBUD', 'ELECTRONICS', 'ACCESSORIES', 'FRAGILE', datetime.date(2022, 11, 15), 150, 6500.0)\n",
      "(12, 'PLAY STATION X', 'ELECTRONICS', 'GAMING', 'FRAGILE', datetime.date(2021, 3, 5), 20, 150000.0)\n"
     ]
    }
   ],
   "source": [
    "mycursor.execute('select * from itemdetails')\n",
    "for x in mycursor:\n",
    "    print(x)"
   ]
  },
  {
   "cell_type": "code",
   "execution_count": null,
   "metadata": {},
   "outputs": [],
   "source": []
  }
 ],
 "metadata": {
  "kernelspec": {
   "display_name": "Python 3.10.4 64-bit",
   "language": "python",
   "name": "python3"
  },
  "language_info": {
   "codemirror_mode": {
    "name": "ipython",
    "version": 3
   },
   "file_extension": ".py",
   "mimetype": "text/x-python",
   "name": "python",
   "nbconvert_exporter": "python",
   "pygments_lexer": "ipython3",
   "version": "3.10.4"
  },
  "orig_nbformat": 4,
  "vscode": {
   "interpreter": {
    "hash": "97a318a1c10ea3cad32b5f740e8bef65bce9a717407c951d39899fa160feabd9"
   }
  }
 },
 "nbformat": 4,
 "nbformat_minor": 2
}
