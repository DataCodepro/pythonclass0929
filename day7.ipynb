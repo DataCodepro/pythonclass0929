{
 "cells": [
  {
   "cell_type": "code",
   "execution_count": 6,
   "metadata": {},
   "outputs": [
    {
     "name": "stdout",
     "output_type": "stream",
     "text": [
      "<class 'tuple'>\n"
     ]
    },
    {
     "data": {
      "text/plain": [
       "'The average of (45, 85, 40.15, 18, 27, 82) is 49.525'"
      ]
     },
     "execution_count": 6,
     "metadata": {},
     "output_type": "execute_result"
    }
   ],
   "source": [
    "def average(*args):\n",
    "    print(type(args))\n",
    "    avg = sum(args)/len(args)\n",
    "    return f'The average of {args} is {avg}'\n",
    "average(45,85,40.15,18,27,82)"
   ]
  },
  {
   "cell_type": "code",
   "execution_count": 4,
   "metadata": {},
   "outputs": [
    {
     "name": "stdout",
     "output_type": "stream",
     "text": [
      "[22, 16, 25, 29, 45, 30, 25, 14, 27, 40, 16, 38, 43, 34, 39, 17, 17, 19, 16, 33, 32, 28, 30, 23, 19, 21, 34, 37, 44, 17, 29, 39, 44, 38, 29, 22, 26, 15, 45, 19, 33, 45, 29, 45, 36, 45, 23, 41, 40, 42]\n"
     ]
    }
   ],
   "source": [
    "import random\n",
    "numbers = []\n",
    "counter = 1\n",
    "while counter <= 50:\n",
    "    num = random.randint(14,45)\n",
    "    numbers.append(num)\n",
    "    counter = counter + 1\n",
    "print(numbers)"
   ]
  },
  {
   "cell_type": "code",
   "execution_count": 7,
   "metadata": {},
   "outputs": [
    {
     "name": "stdout",
     "output_type": "stream",
     "text": [
      "<class 'tuple'>\n"
     ]
    },
    {
     "data": {
      "text/plain": [
       "'The average of (22, 16, 25, 29, 45, 30, 25, 14, 27, 40, 16, 38, 43, 34, 39, 17, 17, 19, 16, 33, 32, 28, 30, 23, 19, 21, 34, 37, 44, 17, 29, 39, 44, 38, 29, 22, 26, 15, 45, 19, 33, 45, 29, 45, 36, 45, 23, 41, 40, 42) is 30.3'"
      ]
     },
     "execution_count": 7,
     "metadata": {},
     "output_type": "execute_result"
    }
   ],
   "source": [
    "average(*numbers)"
   ]
  },
  {
   "cell_type": "code",
   "execution_count": 9,
   "metadata": {},
   "outputs": [
    {
     "name": "stdout",
     "output_type": "stream",
     "text": [
      "<class 'dict'>\n",
      "Name ::: ['Ade', 'Mary', 'Samuel']\n",
      "Gender ::: ['Male', 'Female', 'Male']\n"
     ]
    }
   ],
   "source": [
    "def records(**details):\n",
    "    print(type(details))\n",
    "    for key,value in details.items():\n",
    "        print(key, ':::' , value)\n",
    "records(Name = ['Ade','Mary','Samuel'],Gender = ['Male','Female','Male'])"
   ]
  },
  {
   "cell_type": "code",
   "execution_count": 10,
   "metadata": {},
   "outputs": [
    {
     "data": {
      "text/plain": [
       "7225"
      ]
     },
     "execution_count": 10,
     "metadata": {},
     "output_type": "execute_result"
    }
   ],
   "source": [
    "#THE LAMBDA FUNCTION \n",
    "(lambda num:num * num)(int(input('Please provide a number:')))"
   ]
  },
  {
   "cell_type": "code",
   "execution_count": 12,
   "metadata": {},
   "outputs": [
    {
     "data": {
      "text/plain": [
       "'password is illegal'"
      ]
     },
     "execution_count": 12,
     "metadata": {},
     "output_type": "execute_result"
    }
   ],
   "source": [
    "(lambda password:'Password is legal' if len(password)>=8 else 'password is illegal')(input('Please enter your password'))"
   ]
  },
  {
   "cell_type": "code",
   "execution_count": 13,
   "metadata": {},
   "outputs": [],
   "source": [
    "#EXERCISES\n",
    "#1. WRITE A LAMBDA FUCTION TO FIND THE SQRT OF A GIVEN NUMBER\n",
    "#2. WRITE A LAMBDA FUNCTION TO CHECK IF A PASSWORD START WITH UPPER CASE LETTER AND ENDS WITH ANY OF THE FOLLOWING DIGIT(1,4,5,8)"
   ]
  },
  {
   "cell_type": "code",
   "execution_count": 14,
   "metadata": {},
   "outputs": [
    {
     "data": {
      "text/plain": [
       "8.602325267042627"
      ]
     },
     "execution_count": 14,
     "metadata": {},
     "output_type": "execute_result"
    }
   ],
   "source": [
    "import math\n",
    "(lambda num:math.sqrt(num))(int(input('Please provide a number')))\n"
   ]
  },
  {
   "cell_type": "code",
   "execution_count": 17,
   "metadata": {},
   "outputs": [
    {
     "data": {
      "text/plain": [
       "'Password is legal'"
      ]
     },
     "execution_count": 17,
     "metadata": {},
     "output_type": "execute_result"
    }
   ],
   "source": [
    "(lambda password:'Password is legal' if (password[0] == password[0].upper()) and (password[-1]=='1' or password[-1]=='4' or password[-1]=='5' or password[-1]=='8') else 'password is illegal')(input('Please enter your password'))"
   ]
  },
  {
   "cell_type": "code",
   "execution_count": 19,
   "metadata": {},
   "outputs": [],
   "source": [
    "#MAP: THIS IS USED FOR THE MODIFICATION OF (LIST,TUPLE AND STRING)\n",
    "#FILTER: THIS IS USED FOR THE SELECTION  OF (LIST,TUPLE AND STRING)\n",
    "sqrtnumber = list(map(lambda x:math.sqrt(x),numbers))\n",
    "print(sqrtnumber)\n"
   ]
  },
  {
   "cell_type": "code",
   "execution_count": 20,
   "metadata": {},
   "outputs": [
    {
     "name": "stdout",
     "output_type": "stream",
     "text": [
      "[22, 16, 30, 14, 40, 16, 38, 34, 16, 32, 28, 30, 34, 44, 44, 38, 22, 26, 36, 40, 42]\n",
      "[25, 29, 45, 25, 27, 43, 39, 17, 17, 19, 33, 23, 19, 21, 37, 17, 29, 39, 29, 15, 45, 19, 33, 45, 29, 45, 45, 23, 41]\n"
     ]
    }
   ],
   "source": [
    "evennumber = list(filter(lambda x: x % 2 ==0,numbers))\n",
    "oddnumbers = list(filter(lambda x: x % 2 == 1,numbers))\n",
    "print(evennumber)\n",
    "print(oddnumbers) "
   ]
  },
  {
   "cell_type": "code",
   "execution_count": null,
   "metadata": {},
   "outputs": [],
   "source": []
  }
 ],
 "metadata": {
  "kernelspec": {
   "display_name": "Python 3.10.4 64-bit",
   "language": "python",
   "name": "python3"
  },
  "language_info": {
   "codemirror_mode": {
    "name": "ipython",
    "version": 3
   },
   "file_extension": ".py",
   "mimetype": "text/x-python",
   "name": "python",
   "nbconvert_exporter": "python",
   "pygments_lexer": "ipython3",
   "version": "3.10.4"
  },
  "orig_nbformat": 4,
  "vscode": {
   "interpreter": {
    "hash": "97a318a1c10ea3cad32b5f740e8bef65bce9a717407c951d39899fa160feabd9"
   }
  }
 },
 "nbformat": 4,
 "nbformat_minor": 2
}
