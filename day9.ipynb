{
 "cells": [
  {
   "cell_type": "markdown",
   "id": "2b8847e6",
   "metadata": {},
   "source": [
    "# Error Handling"
   ]
  },
  {
   "cell_type": "markdown",
   "id": "b06ca89b",
   "metadata": {},
   "source": [
    "# MINI TEST\n",
    "# USING CLASS AND OBJECT WRITE A QUIZ PROGRAMM WITH THE FOLLOWING ATTRIBUTE (NAME,GENDER,AGE, AND COUNTRY)\n",
    "# wITH THE FOLLOWING METHOD (ACCEPT, DISPLAY, TACKQUIZ) USE WHILE LOOP TO KEEP THE PROGRAM RUNNING UNTIL YOUR CONDITION IS\n",
    "# SATIFIED UNDER THE TAKEQUIZ METHOD THE QUESTION SHOULD NOT BE MORE THAN 7"
   ]
  },
  {
   "cell_type": "code",
   "execution_count": 2,
   "id": "00a18c0f",
   "metadata": {},
   "outputs": [
    {
     "name": "stdout",
     "output_type": "stream",
     "text": [
      "OPERATIONS ARE AS FOLLOWS\n",
      "1.ENTER RECORDS\n",
      "2.DISPLAY RECORDS\n",
      "3.TAKE QUIZ\n",
      "ENTER y as yes and n to quit:y\n",
      "PICK AN OPERATION:1\n",
      "Enter NameAde\n",
      "Enter SexMale\n",
      "Enter Age24\n",
      "Enter CountryGhana\n",
      "ENTER y as yes and n to quit:y\n",
      "PICK AN OPERATION:2\n",
      "NAME:Ade\n",
      "GENDER:Male\n",
      "AGE:24\n",
      "COUNTRY:Ghana\n",
      "\n",
      "ENTER y as yes and n to quit:y\n",
      "PICK AN OPERATION:3\n",
      "Please provide your age Once again:24\n",
      "HOW MANY PROGRAMMING ELEMENT DO WE HAVE:5\n",
      "HOW MANY SCOPE OF VARIBLE DO WE HAVE IN PYTHON:2\n",
      "WHAT IS AN ARRAY:a data structure holding values of same datatype\n",
      "WHAT IS THIS % CALLED IN PYTHON ARITHIMETIC OPERATORS:modulus\n",
      "PYTHON IS CREATED FROM WHICH PROGRAMMING LANGUAGE:c++\n",
      "YOUR IQ SCORE IS 208.33333333333334, YOU ARE VERY GIFTED\n",
      "ENTER y as yes and n to quit:n\n"
     ]
    }
   ],
   "source": [
    "class quiz:\n",
    "    def __init__(self,Name,Gender,Age,Country):\n",
    "        self.Name = Name\n",
    "        self.Gender =Gender\n",
    "        self.Age = Age\n",
    "        self.Country = Country\n",
    "    def accept(self,NAME,GENDER,AGE,COUNTRY):\n",
    "        ob = quiz(NAME,GENDER,AGE,COUNTRY)\n",
    "        Plist.append(ob)\n",
    "    def display(self,ob):\n",
    "        print(f'''NAME:{ob.Name}\n",
    "GENDER:{ob.Gender}\n",
    "AGE:{ob.Age}\n",
    "COUNTRY:{ob.Country}\n",
    "''')\n",
    "    def takequiz(self):\n",
    "        age = float(input('Please provide your age Once again:'))\n",
    "        mentalscore = 0\n",
    "        q1 = int(input('HOW MANY PROGRAMMING ELEMENT DO WE HAVE:'))\n",
    "        if q1 == 5:\n",
    "            mentalscore += 10\n",
    "        else:\n",
    "            mentalscore+=0\n",
    "            \n",
    "        q2 = int(input('HOW MANY SCOPE OF VARIBLE DO WE HAVE IN PYTHON:'))\n",
    "        if q2 == 2:\n",
    "            mentalscore += 10\n",
    "        else:\n",
    "            mentalscore+=0\n",
    "        q3 = input('WHAT IS AN ARRAY:')\n",
    "        if q3 == 'a data structure holding values of same datatype':\n",
    "            mentalscore += 10\n",
    "        else:\n",
    "            mentalscore+=0\n",
    "        q4 = input('WHAT IS THIS % CALLED IN PYTHON ARITHIMETIC OPERATORS:')\n",
    "        if q4 == 'modulus':\n",
    "            mentalscore += 10\n",
    "        else:\n",
    "            mentalscore+=0\n",
    "        q5 = input('PYTHON IS CREATED FROM WHICH PROGRAMMING LANGUAGE:')\n",
    "        if q5 == 'c++':\n",
    "            mentalscore += 10\n",
    "        else:\n",
    "            mentalscore+=0\n",
    "        \n",
    "        iqscore = (mentalscore/age) * 100\n",
    "        if iqscore >= 70 and iqscore <= 79:\n",
    "            print(f'YOUR IQ SCORE IS {iqscore}, YOU ARE COGNITIVE IMPAIRED')\n",
    "        elif iqscore >= 80 and iqscore <= 89:\n",
    "            print(f'YOUR IQ SCORE IS {iqscore}, YOU ARE BELOW AVERAGE')\n",
    "        elif iqscore >= 90 and iqscore <= 110:\n",
    "            print(f'YOUR IQ SCORE IS {iqscore}, YOU ARE AVERAGE')\n",
    "        elif iqscore >= 111 and iqscore <= 120:\n",
    "            print(f'YOUR IQ SCORE IS {iqscore}, YOU ARE ABOVE AVERAGE')\n",
    "        elif iqscore >= 121 and iqscore <= 130:\n",
    "            print(f'YOUR IQ SCORE IS {iqscore}, YOU ARE GIFTED')\n",
    "        else:\n",
    "            print(f'YOUR IQ SCORE IS {iqscore}, YOU ARE VERY GIFTED') \n",
    "        \n",
    "        \n",
    "Plist = []\n",
    "obj = quiz('','',0,'')\n",
    "\n",
    "print('OPERATIONS ARE AS FOLLOWS\\n1.ENTER RECORDS\\n2.DISPLAY RECORDS\\n3.TAKE QUIZ')\n",
    "counter =1\n",
    "x= input('ENTER y as yes and n to quit:')\n",
    "while x == 'y':\n",
    "    choice = int(input('PICK AN OPERATION:'))\n",
    "    if choice == 1:\n",
    "        obj.accept(input('Enter Name'),input('Enter Sex'),int(input('Enter Age')),input('Enter Country'))\n",
    "    elif choice ==2:\n",
    "        for i in range(len(Plist)):\n",
    "            obj.display(Plist[i])\n",
    "    elif choice ==3:\n",
    "        obj.takequiz()\n",
    "    x= input('ENTER y as yes and n to quit:')\n",
    "    counter = counter + 1"
   ]
  },
  {
   "cell_type": "code",
   "execution_count": 3,
   "id": "83e80cab",
   "metadata": {},
   "outputs": [],
   "source": [
    "#try\n",
    "#except\n",
    "#else\n",
    "#finally"
   ]
  },
  {
   "cell_type": "code",
   "execution_count": 6,
   "id": "e03af9e7",
   "metadata": {},
   "outputs": [
    {
     "name": "stdout",
     "output_type": "stream",
     "text": [
      "Please provide the first Nummber:45\n",
      "Please provide the Second Nummber:0\n",
      "operations are +,-,/,*\n",
      "+, -, / , */\n",
      "You have encountered one or more errors\n"
     ]
    }
   ],
   "source": [
    "try:\n",
    "    num1 = int(input('Please provide the first Nummber:'))\n",
    "    num2 = int(input('Please provide the Second Nummber:'))\n",
    "    print('operations are +,-,/,*')\n",
    "    operation= input('+, -, / , *')\n",
    "    if operation == '+':\n",
    "        print(f'{num1} + {num2} = {num1 + num2}')\n",
    "    elif operation == '-':\n",
    "        print(f'{num1} - {num2} = {num1 - num2}')\n",
    "    elif operation == '/':\n",
    "        print(f'{num1} / {num2} = {num1 / num2}')\n",
    "    elif operation == '*':\n",
    "        print(f'{num1} * {num2} = {num1 * num2}')\n",
    "except:\n",
    "    print('You have encountered one or more errors')"
   ]
  },
  {
   "cell_type": "code",
   "execution_count": 12,
   "id": "b5f35032",
   "metadata": {},
   "outputs": [
    {
     "name": "stdout",
     "output_type": "stream",
     "text": [
      "Please provide the first Nummber:45\n",
      "Please provide the Second Nummber:p\n",
      "Integer or whole number expected not string or float\n",
      "END OF PROGRAM\n"
     ]
    }
   ],
   "source": [
    "try:\n",
    "    num1 = int(input('Please provide the first Nummber:'))\n",
    "    num2 = int(input('Please provide the Second Nummber:'))\n",
    "    print('operations are +,-,/,*')\n",
    "    operation= input('+, -, / , *')\n",
    "    if operation == '+':\n",
    "        print(f'{num1} + {num2} = {num1 + num2}')\n",
    "    elif operation == '-':\n",
    "        print(f'{num1} - {num2} = {num1 - num2}')\n",
    "    elif operation == '/':\n",
    "        print(f'{num1} / {num2} = {num1 / num2}')\n",
    "    elif operation == '*':\n",
    "        print(f'{num1} * {num2} = {num1 * num2}')\n",
    "except ValueError:\n",
    "    print('Integer or whole number expected not string or float')\n",
    "except ZeroDivisionError:\n",
    "    print('You cannot divide a number by zero')\n",
    "except:\n",
    "    print('You have encountered one or more errors')\n",
    "else:\n",
    "    print(num1 ** num2)\n",
    "finally:\n",
    "    print('END OF PROGRAM')"
   ]
  },
  {
   "cell_type": "code",
   "execution_count": null,
   "id": "b3e71719",
   "metadata": {},
   "outputs": [],
   "source": []
  }
 ],
 "metadata": {
  "kernelspec": {
   "display_name": "Python 3 (ipykernel)",
   "language": "python",
   "name": "python3"
  },
  "language_info": {
   "codemirror_mode": {
    "name": "ipython",
    "version": 3
   },
   "file_extension": ".py",
   "mimetype": "text/x-python",
   "name": "python",
   "nbconvert_exporter": "python",
   "pygments_lexer": "ipython3",
   "version": "3.9.12"
  }
 },
 "nbformat": 4,
 "nbformat_minor": 5
}
