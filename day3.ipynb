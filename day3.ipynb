{
 "cells": [
  {
   "cell_type": "code",
   "execution_count": null,
   "metadata": {},
   "outputs": [],
   "source": [
    "#TUPLE\n",
    "#TUPLE IS UNCHANGEABLE \n",
    "#TUPLE IS DENOTED WITH ( )\n",
    "#TO ACCESS ANY VALUE FROM THE TUPLE YOU GO THROUGH THE INDEX LOCATION"
   ]
  },
  {
   "cell_type": "code",
   "execution_count": 1,
   "metadata": {},
   "outputs": [],
   "source": [
    "numbers = (45,20,25,14,17,19,25,10,11,8,25,9,13,25)"
   ]
  },
  {
   "cell_type": "code",
   "execution_count": 2,
   "metadata": {},
   "outputs": [
    {
     "name": "stdout",
     "output_type": "stream",
     "text": [
      "14\n"
     ]
    }
   ],
   "source": [
    "print(len(numbers))"
   ]
  },
  {
   "cell_type": "code",
   "execution_count": 3,
   "metadata": {},
   "outputs": [
    {
     "name": "stdout",
     "output_type": "stream",
     "text": [
      "<class 'tuple'>\n"
     ]
    }
   ],
   "source": [
    "print(type(numbers))"
   ]
  },
  {
   "cell_type": "code",
   "execution_count": 4,
   "metadata": {},
   "outputs": [
    {
     "name": "stdout",
     "output_type": "stream",
     "text": [
      "19\n"
     ]
    }
   ],
   "source": [
    "print(numbers[5])"
   ]
  },
  {
   "cell_type": "code",
   "execution_count": 6,
   "metadata": {},
   "outputs": [
    {
     "name": "stdout",
     "output_type": "stream",
     "text": [
      "(14, 17, 19, 25, 10, 11)\n"
     ]
    }
   ],
   "source": [
    "print(numbers[3:9])"
   ]
  },
  {
   "cell_type": "code",
   "execution_count": 7,
   "metadata": {},
   "outputs": [
    {
     "name": "stdout",
     "output_type": "stream",
     "text": [
      "25\n"
     ]
    }
   ],
   "source": [
    "print(numbers[-1])"
   ]
  },
  {
   "cell_type": "code",
   "execution_count": 8,
   "metadata": {},
   "outputs": [
    {
     "name": "stdout",
     "output_type": "stream",
     "text": [
      "4\n"
     ]
    }
   ],
   "source": [
    "print(numbers.count(25))"
   ]
  },
  {
   "cell_type": "markdown",
   "metadata": {},
   "source": []
  },
  {
   "cell_type": "code",
   "execution_count": 9,
   "metadata": {},
   "outputs": [
    {
     "name": "stdout",
     "output_type": "stream",
     "text": [
      "8\n"
     ]
    }
   ],
   "source": [
    "print(numbers.index(11))"
   ]
  },
  {
   "cell_type": "code",
   "execution_count": 10,
   "metadata": {},
   "outputs": [],
   "source": [
    "items_check = ['Apple','Cherry','Cup','Spoon','Lemon']"
   ]
  },
  {
   "cell_type": "code",
   "execution_count": 11,
   "metadata": {},
   "outputs": [
    {
     "name": "stdout",
     "output_type": "stream",
     "text": [
      "['Apple', 'Cherry', 'Cup', 'Spoon', 'Lemon', 'Kettle']\n"
     ]
    }
   ],
   "source": [
    "items_check.append('Kettle')\n",
    "print(items_check)"
   ]
  },
  {
   "cell_type": "code",
   "execution_count": 12,
   "metadata": {},
   "outputs": [
    {
     "name": "stdout",
     "output_type": "stream",
     "text": [
      "['Apple', 'Cherry', 'Cup', 'Spoon', 'Lemon', 'Kettle', 'Strawberry', 'Cup', 'Pear', 'Plate', 'Cup']\n"
     ]
    }
   ],
   "source": [
    "shop1 = ['Strawberry','Cup','Pear','Plate','Cup']\n",
    "items_check.extend(shop1)\n",
    "print(items_check)"
   ]
  },
  {
   "cell_type": "code",
   "execution_count": 13,
   "metadata": {},
   "outputs": [
    {
     "name": "stdout",
     "output_type": "stream",
     "text": [
      "['Apple', 'Cherry', 'Cup', 'Spoon', 'Pear', 'Lemon', 'Kettle', 'Strawberry', 'Cup', 'Pear', 'Plate', 'Cup']\n"
     ]
    }
   ],
   "source": [
    "items_check.insert(4,'Pear')\n",
    "print(items_check)"
   ]
  },
  {
   "cell_type": "code",
   "execution_count": 14,
   "metadata": {},
   "outputs": [
    {
     "name": "stdout",
     "output_type": "stream",
     "text": [
      "['Apple', 'Cherry', 'Cup', 'Spoon', 'Pear', 'Lemon', 'Kettle', 'Strawberry', 'Cup', 'Pear', 'Plate']\n"
     ]
    }
   ],
   "source": [
    "items_check.pop()\n",
    "print(items_check)"
   ]
  },
  {
   "cell_type": "code",
   "execution_count": 15,
   "metadata": {},
   "outputs": [
    {
     "name": "stdout",
     "output_type": "stream",
     "text": [
      "['Apple', 'Cherry', 'Cup', 'Spoon', 'Lemon', 'Kettle', 'Strawberry', 'Cup', 'Pear', 'Plate']\n"
     ]
    }
   ],
   "source": [
    "items_check.pop(4)\n",
    "print(items_check)"
   ]
  },
  {
   "cell_type": "code",
   "execution_count": 16,
   "metadata": {},
   "outputs": [
    {
     "name": "stdout",
     "output_type": "stream",
     "text": [
      "['Apple', 'Cherry', 'Cup', 'Spoon', 'Lemon', 'Kettle', 'Strawberry', 'Cup', 'Plate']\n"
     ]
    }
   ],
   "source": [
    "items_check.remove('Pear')\n",
    "print(items_check)"
   ]
  },
  {
   "cell_type": "code",
   "execution_count": 17,
   "metadata": {},
   "outputs": [
    {
     "name": "stdout",
     "output_type": "stream",
     "text": [
      "['Apple', 'Cherry', 'Cup', 'Cup', 'Kettle', 'Lemon', 'Plate', 'Spoon', 'Strawberry']\n"
     ]
    }
   ],
   "source": [
    "items_check.sort()\n",
    "print(items_check)"
   ]
  },
  {
   "cell_type": "code",
   "execution_count": 20,
   "metadata": {},
   "outputs": [
    {
     "name": "stdout",
     "output_type": "stream",
     "text": [
      "['Strawberry', 'Spoon', 'Plate', 'Lemon', 'Kettle', 'Cup', 'Cup', 'Cherry', 'Apple']\n"
     ]
    }
   ],
   "source": [
    "items_check.reverse()\n",
    "print(items_check)"
   ]
  },
  {
   "cell_type": "code",
   "execution_count": 21,
   "metadata": {},
   "outputs": [
    {
     "name": "stdout",
     "output_type": "stream",
     "text": [
      "['Strawberry', 'Spoon', 'Plate', 'Lemon', 'Kettle', 'Cup', 'Cup', 'Cherry', 'Apple']\n"
     ]
    }
   ],
   "source": [
    "items_copy = items_check.copy()\n",
    "print(items_copy)"
   ]
  },
  {
   "cell_type": "code",
   "execution_count": 22,
   "metadata": {},
   "outputs": [
    {
     "name": "stdout",
     "output_type": "stream",
     "text": [
      "[]\n"
     ]
    }
   ],
   "source": [
    "items_copy.clear()\n",
    "print(items_copy)"
   ]
  },
  {
   "cell_type": "code",
   "execution_count": 23,
   "metadata": {},
   "outputs": [
    {
     "ename": "NameError",
     "evalue": "name 'items_copy' is not defined",
     "output_type": "error",
     "traceback": [
      "\u001b[1;31m---------------------------------------------------------------------------\u001b[0m",
      "\u001b[1;31mNameError\u001b[0m                                 Traceback (most recent call last)",
      "\u001b[1;32mc:\\Users\\Simeon\\Documents\\pythonprogramm\\pythonclass0929\\day3.ipynb Cell 22\u001b[0m in \u001b[0;36m<cell line: 2>\u001b[1;34m()\u001b[0m\n\u001b[0;32m      <a href='vscode-notebook-cell:/c%3A/Users/Simeon/Documents/pythonprogramm/pythonclass0929/day3.ipynb#X30sZmlsZQ%3D%3D?line=0'>1</a>\u001b[0m \u001b[39mdel\u001b[39;00m(items_copy)\n\u001b[1;32m----> <a href='vscode-notebook-cell:/c%3A/Users/Simeon/Documents/pythonprogramm/pythonclass0929/day3.ipynb#X30sZmlsZQ%3D%3D?line=1'>2</a>\u001b[0m \u001b[39mprint\u001b[39m(items_copy)\n",
      "\u001b[1;31mNameError\u001b[0m: name 'items_copy' is not defined"
     ]
    }
   ],
   "source": [
    "del(items_copy)\n",
    "print(items_copy)"
   ]
  },
  {
   "cell_type": "code",
   "execution_count": 24,
   "metadata": {},
   "outputs": [],
   "source": [
    "records = {\n",
    "    'Name':'Simeon',\n",
    "    'Age':45,\n",
    "    'Gender':'Male',\n",
    "    'Height':1.82,\n",
    "    'Weight':70\n",
    "}"
   ]
  },
  {
   "cell_type": "code",
   "execution_count": 25,
   "metadata": {},
   "outputs": [
    {
     "name": "stdout",
     "output_type": "stream",
     "text": [
      "Simeon\n"
     ]
    }
   ],
   "source": [
    "print(records['Name'])"
   ]
  },
  {
   "cell_type": "code",
   "execution_count": 26,
   "metadata": {},
   "outputs": [
    {
     "name": "stdout",
     "output_type": "stream",
     "text": [
      "dict_keys(['Name', 'Age', 'Gender', 'Height', 'Weight'])\n",
      "dict_values(['Simeon', 45, 'Male', 1.82, 70])\n",
      "dict_items([('Name', 'Simeon'), ('Age', 45), ('Gender', 'Male'), ('Height', 1.82), ('Weight', 70)])\n"
     ]
    }
   ],
   "source": [
    "print(records.keys())\n",
    "print(records.values())\n",
    "print(records.items())"
   ]
  },
  {
   "cell_type": "code",
   "execution_count": 27,
   "metadata": {},
   "outputs": [],
   "source": [
    "details = {\n",
    "    'Name':['Ade','Faith','Joe','Fatima'],\n",
    "    'Age':[14,12,15,14]\n",
    "}"
   ]
  },
  {
   "cell_type": "code",
   "execution_count": 28,
   "metadata": {},
   "outputs": [
    {
     "name": "stdout",
     "output_type": "stream",
     "text": [
      "Joe\n"
     ]
    }
   ],
   "source": [
    "print(details['Name'][2])"
   ]
  },
  {
   "cell_type": "code",
   "execution_count": null,
   "metadata": {},
   "outputs": [],
   "source": [
    " "
   ]
  }
 ],
 "metadata": {
  "kernelspec": {
   "display_name": "Python 3.10.4 64-bit",
   "language": "python",
   "name": "python3"
  },
  "language_info": {
   "codemirror_mode": {
    "name": "ipython",
    "version": 3
   },
   "file_extension": ".py",
   "mimetype": "text/x-python",
   "name": "python",
   "nbconvert_exporter": "python",
   "pygments_lexer": "ipython3",
   "version": "3.10.4"
  },
  "orig_nbformat": 4,
  "vscode": {
   "interpreter": {
    "hash": "97a318a1c10ea3cad32b5f740e8bef65bce9a717407c951d39899fa160feabd9"
   }
  }
 },
 "nbformat": 4,
 "nbformat_minor": 2
}
