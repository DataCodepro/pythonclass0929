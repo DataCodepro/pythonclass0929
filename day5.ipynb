{
 "cells": [
  {
   "cell_type": "markdown",
   "id": "6b9d973f",
   "metadata": {},
   "source": [
    "# loops "
   ]
  },
  {
   "cell_type": "markdown",
   "id": "54a7d37e",
   "metadata": {},
   "source": [
    "## for loop"
   ]
  },
  {
   "cell_type": "code",
   "execution_count": 1,
   "id": "3f601ff8",
   "metadata": {},
   "outputs": [
    {
     "name": "stdout",
     "output_type": "stream",
     "text": [
      "ppp\n",
      "yyy\n",
      "ttt\n",
      "hhh\n",
      "ooo\n",
      "nnn\n"
     ]
    }
   ],
   "source": [
    "word = 'python'\n",
    "for char in word:\n",
    "    print(char * 3)"
   ]
  },
  {
   "cell_type": "code",
   "execution_count": 5,
   "id": "c32721a5",
   "metadata": {},
   "outputs": [
    {
     "name": "stdout",
     "output_type": "stream",
     "text": [
      "ppp yyy ttt hhh ooo nnn "
     ]
    }
   ],
   "source": [
    "word = 'python'\n",
    "for char in word:\n",
    "    print(char * 3, end=' ')"
   ]
  },
  {
   "cell_type": "code",
   "execution_count": 8,
   "id": "347fb1da",
   "metadata": {},
   "outputs": [
    {
     "name": "stdout",
     "output_type": "stream",
     "text": [
      "hey Ade this is to remind you of our meeting slated to hold by 4pm today.\n",
      "hey Faith this is to remind you of our meeting slated to hold by 4pm today.\n",
      "hey Lawal this is to remind you of our meeting slated to hold by 4pm today.\n",
      "hey Bisi this is to remind you of our meeting slated to hold by 4pm today.\n"
     ]
    }
   ],
   "source": [
    "names = ['Ade','Faith','Lawal','Bisi']\n",
    "for name in names:\n",
    "    print(f'hey {name} this is to remind you of our meeting slated to \\\n",
    "hold by 4pm today.')"
   ]
  },
  {
   "cell_type": "code",
   "execution_count": 9,
   "id": "e2f4cc45",
   "metadata": {},
   "outputs": [
    {
     "name": "stdout",
     "output_type": "stream",
     "text": [
      "James :: [84, 98, 54, 68]\n",
      "Hope :: [85, 90, 50, 90]\n",
      "Adams :: [75, 75, 78, 90]\n",
      "Mercy :: [99, 90, 70, 68]\n",
      "Samuel :: [88, 80, 70, 79]\n"
     ]
    }
   ],
   "source": [
    "student_score = {\n",
    "    'James':[84,98,54,68],\n",
    "    'Hope':[85,90,50,90],\n",
    "    'Adams':[75,75,78,90],\n",
    "    'Mercy':[99,90,70,68],\n",
    "    'Samuel':[88,80,70,79]\n",
    "}\n",
    "for key,value in student_score.items():\n",
    "    print(key,'::',value)"
   ]
  },
  {
   "cell_type": "code",
   "execution_count": 13,
   "id": "9e25c54f",
   "metadata": {},
   "outputs": [
    {
     "name": "stdout",
     "output_type": "stream",
     "text": [
      "Please provide your name to access your score: Hope\n",
      "CONGRATULATION YOUR SCORE IN 4 SUBJECT IS [85, 90, 50, 90]\n"
     ]
    }
   ],
   "source": [
    "student_score = {\n",
    "    'James':[84,98,54,68],\n",
    "    'Hope':[85,90,50,90],\n",
    "    'Adams':[75,75,78,90],\n",
    "    'Mercy':[99,90,70,68],\n",
    "    'Samuel':[88,80,70,79]\n",
    "}\n",
    "name = input('Please provide your name to access your score: ')\n",
    "for key in student_score:\n",
    "    if name == key:\n",
    "        print(f'CONGRATULATION YOUR SCORE IN 4 SUBJECT IS \\\n",
    "{student_score[name]}')"
   ]
  },
  {
   "cell_type": "code",
   "execution_count": 16,
   "id": "916ab3e6",
   "metadata": {},
   "outputs": [
    {
     "name": "stdout",
     "output_type": "stream",
     "text": [
      "Please provide your name to access your score: Hope\n",
      "CONGRATULATION YOUR SCORE IN 4 SUBJECT IS [85, 90, 50, 90]\n",
      "RECORD NOT FOUND\n"
     ]
    }
   ],
   "source": [
    "student_score = {\n",
    "    'James':[84,98,54,68],\n",
    "    'Hope':[85,90,50,90],\n",
    "    'Adams':[75,75,78,90],\n",
    "    'Mercy':[99,90,70,68],\n",
    "    'Samuel':[88,80,70,79]\n",
    "}\n",
    "name = input('Please provide your name to access your score: ')\n",
    "for key in student_score:\n",
    "    if name == key:\n",
    "        print(f'CONGRATULATION YOUR SCORE IN 4 SUBJECT IS \\\n",
    "{student_score[name]}')\n",
    "else:\n",
    "    print('RECORD NOT FOUND')"
   ]
  },
  {
   "cell_type": "code",
   "execution_count": 17,
   "id": "e36d19df",
   "metadata": {},
   "outputs": [
    {
     "name": "stdout",
     "output_type": "stream",
     "text": [
      "Please provide your name to access your score: Hope\n",
      "CONGRATULATION YOUR SCORE IN 4 SUBJECT IS [85, 90, 50, 90]\n"
     ]
    }
   ],
   "source": [
    "student_score = {\n",
    "    'James':[84,98,54,68],\n",
    "    'Hope':[85,90,50,90],\n",
    "    'Adams':[75,75,78,90],\n",
    "    'Mercy':[99,90,70,68],\n",
    "    'Samuel':[88,80,70,79]\n",
    "}\n",
    "name = input('Please provide your name to access your score: ')\n",
    "for key in student_score:\n",
    "    if name == key:\n",
    "        print(f'CONGRATULATION YOUR SCORE IN 4 SUBJECT IS \\\n",
    "{student_score[name]}')\n",
    "        break\n",
    "else:\n",
    "    print('RECORD NOT FOUND')"
   ]
  },
  {
   "cell_type": "code",
   "execution_count": 18,
   "id": "f1063d8e",
   "metadata": {},
   "outputs": [
    {
     "name": "stdout",
     "output_type": "stream",
     "text": [
      "Please provide a number:45\n",
      "The sqrt of 45 is 6.708203932499369\n",
      "Please provide a number:80\n",
      "The sqrt of 80 is 8.94427190999916\n",
      "Please provide a number:98\n",
      "The sqrt of 98 is 9.899494936611665\n",
      "Please provide a number:54\n",
      "The sqrt of 54 is 7.3484692283495345\n",
      "Please provide a number:24\n",
      "The sqrt of 24 is 4.898979485566356\n",
      "Please provide a number:0\n"
     ]
    }
   ],
   "source": [
    "import math\n",
    "usernum = int(input('Please provide a number:'))\n",
    "counter = 1\n",
    "while usernum != 0:\n",
    "    print(f'The sqrt of {usernum} is {math.sqrt(usernum)}')\n",
    "    usernum = int(input('Please provide a number:'))\n",
    "    counter = counter + 1"
   ]
  },
  {
   "cell_type": "code",
   "execution_count": 19,
   "id": "5e652f15",
   "metadata": {},
   "outputs": [
    {
     "name": "stdout",
     "output_type": "stream",
     "text": [
      "PLAYER ONE SCORE::7\n",
      "PLAYER  TWO SCORE::5\n",
      "PLAYER ONE WINS\n",
      "PLAYER ONE SCORE::8\n",
      "PLAYER  TWO SCORE::6\n",
      "PLAYER ONE WINS\n",
      "PLAYER ONE SCORE::5\n",
      "PLAYER  TWO SCORE::7\n",
      "PLAYER TWO WINS\n",
      "PLAYER ONE SCORE::10\n",
      "PLAYER  TWO SCORE::6\n",
      "PLAYER ONE WINS\n",
      "PLAYER ONE SCORE::4\n",
      "PLAYER  TWO SCORE::6\n",
      "PLAYER TWO WINS\n",
      "PLAYER ONE SCORE::8\n",
      "PLAYER  TWO SCORE::6\n",
      "PLAYER ONE WINS\n",
      "PLAYER ONE SCORE::7\n",
      "PLAYER  TWO SCORE::7\n",
      "IT IS A DRAW\n",
      "PLAYER ONE SCORE::6\n",
      "PLAYER  TWO SCORE::9\n",
      "PLAYER TWO WINS\n",
      "PLAYER ONE SCORE::4\n",
      "PLAYER  TWO SCORE::8\n",
      "PLAYER TWO WINS\n",
      "PLAYER ONE SCORE::4\n",
      "PLAYER  TWO SCORE::11\n",
      "PLAYER TWO WINS\n",
      "PLAYER TWO IS THE OVERALL WINNER WITH A TOTAL POINT OF 27\n"
     ]
    }
   ],
   "source": [
    "import random\n",
    "player1score = 0\n",
    "player2score = 0\n",
    "\n",
    "for i in range(1,11):\n",
    "    dice1 = random.randint(1,6)  + random.randint(1,6)\n",
    "    dice2 = random.randint(1,6)  + random.randint(1,6)\n",
    "    \n",
    "    if dice1 > dice2:\n",
    "        print(f'PLAYER ONE SCORE::{dice1}')\n",
    "        print(f'PLAYER  TWO SCORE::{dice2}')\n",
    "        print('PLAYER ONE WINS')\n",
    "        player1score = player1score + 5\n",
    "    elif dice2 > dice1:\n",
    "        print(f'PLAYER ONE SCORE::{dice1}')\n",
    "        print(f'PLAYER  TWO SCORE::{dice2}')\n",
    "        print('PLAYER TWO WINS')\n",
    "        player2score = player2score + 5\n",
    "    elif dice1  == dice2:\n",
    "        print(f'PLAYER ONE SCORE::{dice1}')\n",
    "        print(f'PLAYER  TWO SCORE::{dice2}')\n",
    "        print('IT IS A DRAW')\n",
    "        player1score = player1score + 2\n",
    "        player2score = player2score + 2\n",
    "if player1score > player2score:\n",
    "    print(f'PLAYER ONE IS THE OVERALL WINNER WITH A TOTAL POINT OF {player1score}')\n",
    "elif player2score > player1score:\n",
    "    print(f'PLAYER TWO IS THE OVERALL WINNER WITH A TOTAL POINT OF {player2score}')\n",
    "else:\n",
    "    print('IT IS A DRAW!!!!!!!!!!')"
   ]
  },
  {
   "cell_type": "code",
   "execution_count": null,
   "id": "dafc0e74",
   "metadata": {},
   "outputs": [],
   "source": [
    "import random\n",
    "player1score = 0\n",
    "player2score = 0\n",
    "counter = 1\n",
    "while counter <= 10:\n",
    "    dice1 = random.randint(1,6)  + random.randint(1,6)\n",
    "    dice2 = random.randint(1,6)  + random.randint(1,6)\n",
    "    \n",
    "    if dice1 > dice2:\n",
    "        print(f'PLAYER ONE SCORE::{dice1}')\n",
    "        print(f'PLAYER  TWO SCORE::{dice2}')\n",
    "        print('PLAYER ONE WINS')\n",
    "        player1score = player1score + 5\n",
    "    elif dice2 > dice1:\n",
    "        print(f'PLAYER ONE SCORE::{dice1}')\n",
    "        print(f'PLAYER  TWO SCORE::{dice2}')\n",
    "        print('PLAYER TWO WINS')\n",
    "        player2score = player2score + 5\n",
    "    elif dice1  == dice2:\n",
    "        print(f'PLAYER ONE SCORE::{dice1}')\n",
    "        print(f'PLAYER  TWO SCORE::{dice2}')\n",
    "        print('IT IS A DRAW')\n",
    "        player1score = player1score + 2\n",
    "        player2score = player2score + 2\n",
    "    counter = counter + 1\n",
    "if player1score > player2score:\n",
    "    print(f'PLAYER ONE IS THE OVERALL WINNER WITH A TOTAL POINT OF {player1score}')\n",
    "elif player2score > player1score:\n",
    "    print(f'PLAYER TWO IS THE OVERALL WINNER WITH A TOTAL POINT OF {player2score}')\n",
    "else:\n",
    "    print('IT IS A DRAW!!!!!!!!!!')"
   ]
  }
 ],
 "metadata": {
  "kernelspec": {
   "display_name": "Python 3 (ipykernel)",
   "language": "python",
   "name": "python3"
  },
  "language_info": {
   "codemirror_mode": {
    "name": "ipython",
    "version": 3
   },
   "file_extension": ".py",
   "mimetype": "text/x-python",
   "name": "python",
   "nbconvert_exporter": "python",
   "pygments_lexer": "ipython3",
   "version": "3.9.12"
  }
 },
 "nbformat": 4,
 "nbformat_minor": 5
}
