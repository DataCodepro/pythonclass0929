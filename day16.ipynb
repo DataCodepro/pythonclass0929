{
 "cells": [
  {
   "cell_type": "code",
   "execution_count": 1,
   "metadata": {},
   "outputs": [],
   "source": [
    "# EXERCISE\n",
    "# 1. WRITE A PYTHON PROGRAM TO FIND THOSE NUMBERS WHICH ARE DIVISIBLE  BY 7 AND 5 BETWEEN 1500 AND 2700 (BOTH INCLUDED)\n",
    "# 2. WRITE A PYTHON PROGRAM TO  COUNT THE NUMBER OF EVEN AND ODD NUMBER IN THE GIVEN SERIES (1,2,8,9,6,4,7,8,10,11,12,15,14,18)\n",
    "# 3. WRITE  A PYTHON PROGRAM THAT ACCEPT  A STRING AND CALCULATE THE NUMBER OF DIGIT AND LETTER\n",
    "# 4. WRITE A PYTHON PROGRAM TO CHECK THE VALIDITY OF A PASSWORD BASED ON THE FOLLOWING REQUIMENT I.ATLEASET A UPPER AND A LOWER CASE LETTER II. A DIGIT, III.ANY OF THIS CHARACTER[$@#] IV. MINIMUM LENGHT OF 8 V. MAXIMUM LENGHT OF 16"
   ]
  },
  {
   "cell_type": "code",
   "execution_count": 2,
   "metadata": {},
   "outputs": [
    {
     "name": "stdout",
     "output_type": "stream",
     "text": [
      "1505,1540,1575,1610,1645,1680,1715,1750,1785,1820,1855,1890,1925,1960,1995,2030,2065,2100,2135,2170,2205,2240,2275,2310,2345,2380,2415,2450,2485,2520,2555,2590,2625,2660,2695\n"
     ]
    }
   ],
   "source": [
    "#NUMBER1\n",
    "output = []\n",
    "for x in range(1500,2701):\n",
    "    if (x % 7 ==0) and (x % 5 ==0):\n",
    "        output.append(str(x))\n",
    "print(','.join(output))"
   ]
  },
  {
   "cell_type": "code",
   "execution_count": 3,
   "metadata": {},
   "outputs": [
    {
     "name": "stdout",
     "output_type": "stream",
     "text": [
      "Numbers of even numbers: 9\n",
      "Numbers of odd numbers: 5\n"
     ]
    }
   ],
   "source": [
    "#NUMBER2\n",
    "numbers = (1,2,8,9,6,4,7,8,10,11,12,15,14,18)\n",
    "odd = 0\n",
    "even =0\n",
    "for x in numbers:\n",
    "    if not x % 2:\n",
    "        even +=1\n",
    "    else:\n",
    "        odd +=1\n",
    "print('Numbers of even numbers:', even)\n",
    "print('Numbers of odd numbers:', odd)"
   ]
  },
  {
   "cell_type": "code",
   "execution_count": 4,
   "metadata": {},
   "outputs": [
    {
     "name": "stdout",
     "output_type": "stream",
     "text": [
      "Letters: 13\n",
      "Digit: 0\n"
     ]
    }
   ],
   "source": [
    "#NUMBER3\n",
    "string = input('INPUT A STRING:')\n",
    "digit = 0\n",
    "letter = 0\n",
    "for x in string:\n",
    "    if x.isdigit():\n",
    "        digit ==1\n",
    "    elif x.isalpha():\n",
    "        letter +=1\n",
    "    else:\n",
    "        pass\n",
    "print('Letters:', letter)\n",
    "print('Digit:', digit)"
   ]
  },
  {
   "cell_type": "code",
   "execution_count": null,
   "metadata": {},
   "outputs": [],
   "source": [
    "#NUMBER 4\n",
    "import re\n",
    "password = input('Input your password:')\n",
    "x =True\n",
    "while x:\n",
    "    if  (len(password)<=8 or len(password)>=16):\n",
    "        break\n",
    "    elif not re.search('[a-z]',password):\n",
    "        break\n",
    "    elif not re.search('[A-Z]',password):\n",
    "        break\n",
    "    elif not re.search('[0-9]',password):\n",
    "        break\n",
    "    elif not re.search('[$#@]',password):\n",
    "        break\n",
    "    elif re.search('\\s', password):\n",
    "        break\n",
    "    else:\n",
    "        print('Valid Password')\n",
    "        x=False\n",
    "        break\n",
    "if x:\n",
    "    print('Not a valid password')"
   ]
  }
 ],
 "metadata": {
  "kernelspec": {
   "display_name": "Python 3.10.4 64-bit",
   "language": "python",
   "name": "python3"
  },
  "language_info": {
   "codemirror_mode": {
    "name": "ipython",
    "version": 3
   },
   "file_extension": ".py",
   "mimetype": "text/x-python",
   "name": "python",
   "nbconvert_exporter": "python",
   "pygments_lexer": "ipython3",
   "version": "3.10.4"
  },
  "orig_nbformat": 4,
  "vscode": {
   "interpreter": {
    "hash": "97a318a1c10ea3cad32b5f740e8bef65bce9a717407c951d39899fa160feabd9"
   }
  }
 },
 "nbformat": 4,
 "nbformat_minor": 2
}
